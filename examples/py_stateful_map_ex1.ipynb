{
 "cells": [
  {
   "cell_type": "code",
   "execution_count": 1,
   "id": "8d065357-31fe-4e22-9641-030d4fe890a6",
   "metadata": {},
   "outputs": [],
   "source": [
    "import multiprocessing\n",
    "import platform\n",
    "\n",
    "if platform.system() == 'Windows':\n",
    "    multiprocessing.set_start_method('spawn')\n",
    "else:\n",
    "    multiprocessing.set_start_method('fork')"
   ]
  },
  {
   "cell_type": "code",
   "execution_count": 2,
   "id": "8485dda9-3d34-48b6-82fc-f3264a6e8584",
   "metadata": {},
   "outputs": [],
   "source": [
    "from py_stateful_map import StateFullWorkerPool, WorkerResultWrapper, ExceptionBehavior, ArgumentPassing\n",
    "# Use of tqdm is optional!\n",
    "from tqdm import tqdm "
   ]
  },
  {
   "cell_type": "code",
   "execution_count": 3,
   "id": "22c89370-135a-46bf-9e38-7b54f43ba9bb",
   "metadata": {},
   "outputs": [],
   "source": [
    "class SimpleArithmeticClassWorker:\n",
    "    def __init__(self, proc_id):\n",
    "        print(f'Init. process {proc_id}')\n",
    "        self.proc_id = proc_id\n",
    "\n",
    "    def __call__(self, input_arg):\n",
    "        ret_val = input_arg\n",
    "        for t in range(100_000):\n",
    "            ret_val = (ret_val * ret_val) % 337\n",
    "        return ret_val"
   ]
  },
  {
   "cell_type": "code",
   "execution_count": 4,
   "id": "a74686e2-4377-48da-bfcc-3c30ba83c913",
   "metadata": {},
   "outputs": [
    {
     "name": "stdout",
     "output_type": "stream",
     "text": [
      "Init. process 0\n",
      "Init. process 1\n",
      "Init. process 2\n",
      "Init. process 3\n"
     ]
    },
    {
     "name": "stderr",
     "output_type": "stream",
     "text": [
      "100%|███████████████████████████████████████████████████████████████████████████████████| 1000/1000 [00:02<00:00, 340.34it/s]"
     ]
    },
    {
     "name": "stdout",
     "output_type": "stream",
     "text": [
      "Total: 112152\n"
     ]
    },
    {
     "name": "stderr",
     "output_type": "stream",
     "text": [
      "\n"
     ]
    }
   ],
   "source": [
    "N_TASKS = 1000      \n",
    "N_WORKERS = 4\n",
    "\n",
    "\n",
    "worker_kwarg_dict_arr = []\n",
    "for pid in range(N_WORKERS):\n",
    "    worker_kwarg_dict_arr.append(dict(proc_id=pid))\n",
    "    \n",
    "input_arr = [k * 10 for k in range(N_TASKS)]\n",
    "\n",
    "tot_res = 0    \n",
    "\n",
    "with StateFullWorkerPool(num_workers=N_WORKERS,\n",
    "                     worker_class_or_func=SimpleArithmeticClassWorker,\n",
    "                     worker_kwarg_dict_arr=worker_kwarg_dict_arr,\n",
    "                     argument_passing=ArgumentPassing.AS_SINGLE_ARG,\n",
    "                     exception_behavior=ExceptionBehavior.DEFERRED,\n",
    "                     join_timeout=1) as proc_pool:\n",
    "\n",
    "    # just marking the type\n",
    "    result: WorkerResultWrapper\n",
    "    for result in tqdm(proc_pool.map(input_arr, is_unordered=False)):\n",
    "        # With deferred exceptions, they are simply returned as a part of the result object\n",
    "        if result.exception_obj is not None:\n",
    "            print('Error:', result.exception_obj)\n",
    "        else:\n",
    "            tot_res += result.ret_val\n",
    "            assert result.exception_obj is None\n",
    "\n",
    "print('Total:', tot_res)"
   ]
  },
  {
   "cell_type": "code",
   "execution_count": null,
   "id": "f1228764-d10b-4601-8069-ee8d900f0872",
   "metadata": {},
   "outputs": [],
   "source": []
  }
 ],
 "metadata": {
  "kernelspec": {
   "display_name": "Python 3 (ipykernel)",
   "language": "python",
   "name": "python3"
  },
  "language_info": {
   "codemirror_mode": {
    "name": "ipython",
    "version": 3
   },
   "file_extension": ".py",
   "mimetype": "text/x-python",
   "name": "python",
   "nbconvert_exporter": "python",
   "pygments_lexer": "ipython3",
   "version": "3.10.14"
  }
 },
 "nbformat": 4,
 "nbformat_minor": 5
}
